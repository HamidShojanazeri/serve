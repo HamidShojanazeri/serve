{
 "cells": [
  {
   "cell_type": "code",
   "execution_count": null,
   "id": "f36a0ce5",
   "metadata": {},
   "outputs": [],
   "source": [
    "import base64\n",
    "import json\n",
    "import numpy as np\n",
    "import matplotlib.pyplot as plt\n",
    "from PIL import Image"
   ]
  },
  {
   "cell_type": "markdown",
   "id": "731e0787",
   "metadata": {},
   "source": [
    "### Session"
   ]
  },
  {
   "cell_type": "code",
   "execution_count": null,
   "id": "98af6de8",
   "metadata": {},
   "outputs": [],
   "source": [
    "import boto3, time, json\n",
    "\n",
    "sess = boto3.Session()\n",
    "sm = sess.client(\"sagemaker\")\n",
    "region = sess.region_name\n",
    "account = boto3.client(\"sts\").get_caller_identity().get(\"Account\")"
   ]
  },
  {
   "cell_type": "code",
   "execution_count": null,
   "id": "c0d60c9d",
   "metadata": {},
   "outputs": [],
   "source": [
    "pip install sagemaker"
   ]
  },
  {
   "cell_type": "code",
   "execution_count": null,
   "id": "2ccb4f11",
   "metadata": {},
   "outputs": [],
   "source": [
    "!wget https://s3.us-west-2.amazonaws.com/mar-files-ts0.4/flores_small.mar"
   ]
  },
  {
   "cell_type": "markdown",
   "id": "91933be1",
   "metadata": {},
   "source": [
    "### IAM Role\n",
    "\n",
    "Note: make sure the IAM role has:\n",
    "\n",
    "AmazonS3FullAccess\n",
    "\n",
    "AmazonEC2ContainerRegistryFullAccess\n",
    "\n",
    "AmazonSageMakerFullAccess"
   ]
  },
  {
   "cell_type": "code",
   "execution_count": null,
   "id": "bb0fbdb5",
   "metadata": {},
   "outputs": [],
   "source": [
    "import sagemaker\n",
    "\n",
    "# role = sagemaker.get_execution_role()\n",
    "role = 'arn:aws:iam::320567679581:role/Hamid'"
   ]
  },
  {
   "cell_type": "markdown",
   "id": "b1b0c16a",
   "metadata": {},
   "source": [
    "### Amazon Elastic Container Registry (ECR)"
   ]
  },
  {
   "cell_type": "code",
   "execution_count": null,
   "id": "0b7bf567",
   "metadata": {},
   "outputs": [],
   "source": [
    "registry_name = \"dynalab-torchserve-sagemaker\""
   ]
  },
  {
   "cell_type": "code",
   "execution_count": null,
   "id": "e381810c",
   "metadata": {},
   "outputs": [],
   "source": [
    "image = f\"{account}.dkr.ecr.{region}.amazonaws.com/{registry_name}:latest\"\n"
   ]
  },
  {
   "cell_type": "code",
   "execution_count": null,
   "id": "c332b7d5",
   "metadata": {},
   "outputs": [],
   "source": [
    "image"
   ]
  },
  {
   "cell_type": "code",
   "execution_count": null,
   "id": "3bca3c83",
   "metadata": {},
   "outputs": [],
   "source": [
    "# you don't need to run the next cell as if it has already been registered"
   ]
  },
  {
   "cell_type": "code",
   "execution_count": null,
   "id": "75e1b501",
   "metadata": {},
   "outputs": [],
   "source": [
    "!aws ecr create-repository --repository-name {registry_name}"
   ]
  },
  {
   "cell_type": "markdown",
   "id": "50d5557c",
   "metadata": {},
   "source": [
    "### Pytorch Model Artifact (mar file)"
   ]
  },
  {
   "cell_type": "code",
   "execution_count": null,
   "id": "ed17f274",
   "metadata": {},
   "outputs": [],
   "source": [
    "model_file_name = \"flores_small\"\n",
    "sagemaker_session = sagemaker.Session()\n",
    "bucket_name = sagemaker_session.default_bucket()\n",
    "prefix = 'Dyna'"
   ]
  },
  {
   "cell_type": "markdown",
   "id": "92e81f55",
   "metadata": {},
   "source": [
    "No need to run next cell as if it has been already pushed to s3 bucket"
   ]
  },
  {
   "cell_type": "code",
   "execution_count": null,
   "id": "7edfc1e9",
   "metadata": {},
   "outputs": [],
   "source": [
    "!tar cvfz {model_file_name}.tar.gz flores_small.mar\n",
    "!aws s3 cp {model_file_name}.tar.gz s3://{bucket_name}/{prefix}/models/"
   ]
  },
  {
   "cell_type": "markdown",
   "id": "f70287ce",
   "metadata": {},
   "source": [
    "The model_artifact is equal to the file uploaded in the S3 bucket as will be printed when the above cell ran. "
   ]
  },
  {
   "cell_type": "code",
   "execution_count": null,
   "id": "27c05925",
   "metadata": {},
   "outputs": [],
   "source": [
    "model_artifact = 's3://sagemaker-us-west-2-320567679581/Dyna/models/flores_small.tar.gz' # This should be changed to S3 path generated above\n",
    "\n"
   ]
  },
  {
   "cell_type": "markdown",
   "id": "1b514709",
   "metadata": {},
   "source": [
    "### Build a Customized TorchServe Docker container and push it to Amazon ECR"
   ]
  },
  {
   "cell_type": "code",
   "execution_count": null,
   "id": "5d7c80f9",
   "metadata": {},
   "outputs": [],
   "source": [
    "!aws ecr get-login-password --region {region} | docker login --username AWS --password-stdin {account}.dkr.ecr.{region}.amazonaws.com\n"
   ]
  },
  {
   "cell_type": "code",
   "execution_count": null,
   "id": "7a4f29ea",
   "metadata": {},
   "outputs": [],
   "source": [
    "!docker build -t {registry_name} /home/ubuntu/serve/examples/Sagemaker"
   ]
  },
  {
   "cell_type": "code",
   "execution_count": null,
   "id": "5c0d5bef",
   "metadata": {},
   "outputs": [],
   "source": [
    "!docker tag {registry_name}:latest {image}"
   ]
  },
  {
   "cell_type": "code",
   "execution_count": null,
   "id": "a3b08650",
   "metadata": {},
   "outputs": [],
   "source": [
    "!docker push {image}"
   ]
  },
  {
   "cell_type": "code",
   "execution_count": null,
   "id": "d8bb9aa1",
   "metadata": {},
   "outputs": [],
   "source": [
    "model_name = \"floressmall-torchserve-sagemaker\""
   ]
  },
  {
   "cell_type": "markdown",
   "id": "f44f1457",
   "metadata": {},
   "source": [
    "### Create a Model for Sagemaker use"
   ]
  },
  {
   "cell_type": "code",
   "execution_count": null,
   "id": "eedc764e",
   "metadata": {},
   "outputs": [],
   "source": [
    "container = {\"Image\": image, \"ModelDataUrl\": model_artifact}\n",
    "\n",
    "create_model_response = sm.create_model(\n",
    "    ModelName=model_name, ExecutionRoleArn=role, PrimaryContainer=container\n",
    ")\n",
    "print(create_model_response[\"ModelArn\"])\n"
   ]
  },
  {
   "cell_type": "markdown",
   "id": "14339e17",
   "metadata": {},
   "source": [
    "### Batch transform jobs\n",
    "\n",
    "* The s3_bucket_name is the bucket_name that has been created at the start of the notebook.\n",
    "* Make sure in the bucker name you create the batch_input and batch_output folders as shown below.\n",
    "* Make sure the dataset files/ shared input files, are placed in the batch_input folder."
   ]
  },
  {
   "cell_type": "code",
   "execution_count": null,
   "id": "1c168a9c",
   "metadata": {},
   "outputs": [],
   "source": [
    "s3_bucket_name= 'sagemaker-us-west-2-320567679581'\n",
    "batch_input = f\"s3://{s3_bucket_name}/Dyna/batch_transform_flores_torchserve_sagemaker/\"\n",
    "batch_output = f\"s3://{s3_bucket_name}/Dyna/batch_transform_flores_torchserve_sagemaker_output/\""
   ]
  },
  {
   "cell_type": "code",
   "execution_count": null,
   "id": "4bad4c84",
   "metadata": {},
   "outputs": [],
   "source": [
    "import time\n",
    "\n",
    "batch_job_name = 'flores-batch' + time.strftime(\"%Y-%m-%d-%H-%M-%S\", time.gmtime())\n",
    "batch_job_name"
   ]
  },
  {
   "cell_type": "code",
   "execution_count": null,
   "id": "ad597a59",
   "metadata": {},
   "outputs": [],
   "source": [
    "request = {\n",
    "    \"ModelClientConfig\": {\n",
    "        \"InvocationsTimeoutInSeconds\": 3600,\n",
    "        \"InvocationsMaxRetries\": 1,\n",
    "    },\n",
    "    \"TransformJobName\": batch_job_name,\n",
    "    \"ModelName\": model_name,\n",
    "    \"MaxConcurrentTransforms\":1,\n",
    "    \"BatchStrategy\": \"MultiRecord\",\n",
    "    \"TransformOutput\": {\"S3OutputPath\": batch_output, \"AssembleWith\": \"Line\", \"Accept\": \"application/json\"},\n",
    "    \"TransformInput\": {\n",
    "        \"DataSource\": {\n",
    "            \"S3DataSource\": {\"S3DataType\": \"S3Prefix\", \"S3Uri\": batch_input}\n",
    "        },\n",
    "        \n",
    "        \"SplitType\" : \"Line\",\n",
    "        \"ContentType\": \"application/json\",\n",
    "    },\n",
    "    \"TransformResources\": {\"InstanceType\": \"ml.p2.xlarge\", \"InstanceCount\": 1},\n",
    "}\n"
   ]
  },
  {
   "cell_type": "code",
   "execution_count": null,
   "id": "9be1dbfa",
   "metadata": {},
   "outputs": [],
   "source": [
    "%%time\n",
    "sm.create_transform_job(**request)\n",
    "\n",
    "while True:\n",
    "    response = sm.describe_transform_job(TransformJobName=batch_job_name)\n",
    "    status = response[\"TransformJobStatus\"]\n",
    "    if status == \"Completed\":\n",
    "        print(\"Transform job ended with status: \" + status)\n",
    "        break\n",
    "    if status == \"Failed\":\n",
    "        message = response[\"FailureReason\"]\n",
    "        print(\"Transform failed with the following error: {}\".format(message))\n",
    "        raise Exception(\"Transform job failed\")\n",
    "    print(\"Transform job is still in status: \" + status)\n",
    "    time.sleep(30)"
   ]
  },
  {
   "cell_type": "markdown",
   "id": "996368be",
   "metadata": {},
   "source": [
    "#### Batch aggregated requests"
   ]
  },
  {
   "cell_type": "code",
   "execution_count": null,
   "id": "c2f589ca",
   "metadata": {},
   "outputs": [],
   "source": [
    "client = boto3.client(\"sagemaker\")\n",
    "client.delete_model(ModelName=model_name)\n"
   ]
  }
 ],
 "metadata": {
  "kernelspec": {
   "display_name": "Python 3",
   "language": "python",
   "name": "python3"
  },
  "language_info": {
   "codemirror_mode": {
    "name": "ipython",
    "version": 3
   },
   "file_extension": ".py",
   "mimetype": "text/x-python",
   "name": "python",
   "nbconvert_exporter": "python",
   "pygments_lexer": "ipython3",
   "version": "3.6.9"
  }
 },
 "nbformat": 4,
 "nbformat_minor": 5
}
